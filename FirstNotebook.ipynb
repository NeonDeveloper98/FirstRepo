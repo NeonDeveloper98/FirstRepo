{
 "cells": [
  {
   "cell_type": "markdown",
   "id": "9a726d56",
   "metadata": {},
   "source": [
    "# Data Science tools and Ecosystem"
   ]
  },
  {
   "cell_type": "markdown",
   "id": "7a413199",
   "metadata": {},
   "source": [
    "In this Notebook, Data Science Tools and Eco System are summarized"
   ]
  },
  {
   "cell_type": "markdown",
   "id": "36193c53",
   "metadata": {},
   "source": [
    "**Objectives**\n",
    "- Familiarity with DS Languages \n",
    "- Familiarity with DS Tools\n",
    "- Familiarity with DS Libraries \n",
    "-----------------------------------------"
   ]
  },
  {
   "cell_type": "markdown",
   "id": "e3634b67",
   "metadata": {},
   "source": [
    "Some of the popular languages that Data Scientists use are\n",
    "\n",
    "1. Python\n",
    "1. R Language \n",
    "1. SQL "
   ]
  },
  {
   "cell_type": "markdown",
   "id": "303c015b",
   "metadata": {},
   "source": [
    "Some of The commonly Used Libraries used by data scientists incude: \n",
    "1. Pandas \n",
    "1. NumPy\n",
    "1. PyTorch"
   ]
  },
  {
   "cell_type": "markdown",
   "id": "dc05d719",
   "metadata": {},
   "source": [
    "\n",
    "| Data Science tools |\n",
    "|--------------------|\n",
    "|     Rstudio        | \n",
    "|   Apache Spark     | \n",
    "|    TensorFlow      | "
   ]
  },
  {
   "cell_type": "markdown",
   "id": "2e6d8572",
   "metadata": {},
   "source": [
    "### Below are a few examples of evaluating arithmetic expression in python"
   ]
  },
  {
   "cell_type": "markdown",
   "id": "e5a2833f",
   "metadata": {},
   "source": [
    "*This a simple arithmetic expression to mutiply then add integers*"
   ]
  },
  {
   "cell_type": "code",
   "execution_count": 1,
   "id": "954f3756",
   "metadata": {},
   "outputs": [
    {
     "data": {
      "text/plain": [
       "17"
      ]
     },
     "execution_count": 1,
     "metadata": {},
     "output_type": "execute_result"
    }
   ],
   "source": [
    "(3*4)+5"
   ]
  },
  {
   "cell_type": "markdown",
   "id": "f6dcf694",
   "metadata": {},
   "source": [
    "*This will convert 200 Minutes to hours by dividing by 60*"
   ]
  },
  {
   "cell_type": "code",
   "execution_count": 4,
   "id": "c43446fe",
   "metadata": {},
   "outputs": [
    {
     "data": {
      "text/plain": [
       "5"
      ]
     },
     "execution_count": 4,
     "metadata": {},
     "output_type": "execute_result"
    }
   ],
   "source": [
    "330//60"
   ]
  },
  {
   "cell_type": "markdown",
   "id": "68e9470d",
   "metadata": {},
   "source": [
    "## Author \n",
    "Name: NeonDeveloper"
   ]
  }
 ],
 "metadata": {
  "kernelspec": {
   "display_name": "Python 3 (ipykernel)",
   "language": "python",
   "name": "python3"
  },
  "language_info": {
   "codemirror_mode": {
    "name": "ipython",
    "version": 3
   },
   "file_extension": ".py",
   "mimetype": "text/x-python",
   "name": "python",
   "nbconvert_exporter": "python",
   "pygments_lexer": "ipython3",
   "version": "3.9.13"
  }
 },
 "nbformat": 4,
 "nbformat_minor": 5
}
